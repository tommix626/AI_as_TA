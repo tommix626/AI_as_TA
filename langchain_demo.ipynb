{
 "cells": [
  {
   "cell_type": "markdown",
   "source": [
    "# Langchain Demo\n",
    "Test how `langchain` can be used to build no-code LLMOps. Proof of Concept.\n"
   ],
   "metadata": {
    "collapsed": false
   },
   "id": "38b3a36b648dcff5"
  },
  {
   "cell_type": "markdown",
   "source": [
    "## Setting up Enviornment"
   ],
   "metadata": {
    "collapsed": false
   },
   "id": "38c49fc03361f1cb"
  },
  {
   "cell_type": "code",
   "execution_count": 1,
   "outputs": [
    {
     "name": "stdout",
     "output_type": "stream",
     "text": [
      "Requirement already satisfied: langchain in e:\\programming\\ai_as_ta\\venv\\lib\\site-packages (0.0.330)\n",
      "Requirement already satisfied: anyio<4.0 in e:\\programming\\ai_as_ta\\venv\\lib\\site-packages (from langchain) (3.7.1)\n",
      "Requirement already satisfied: SQLAlchemy<3,>=1.4 in e:\\programming\\ai_as_ta\\venv\\lib\\site-packages (from langchain) (2.0.23)\n",
      "Requirement already satisfied: jsonpatch<2.0,>=1.33 in e:\\programming\\ai_as_ta\\venv\\lib\\site-packages (from langchain) (1.33)\n",
      "Requirement already satisfied: dataclasses-json<0.7,>=0.5.7 in e:\\programming\\ai_as_ta\\venv\\lib\\site-packages (from langchain) (0.6.1)\n",
      "Requirement already satisfied: numpy<2,>=1 in c:\\users\\tom\\appdata\\local\\packages\\pythonsoftwarefoundation.python.3.9_qbz5n2kfra8p0\\localcache\\local-packages\\python39\\site-packages (from langchain) (1.23.0)\n",
      "Requirement already satisfied: pydantic<3,>=1 in e:\\programming\\ai_as_ta\\venv\\lib\\site-packages (from langchain) (2.4.2)\n",
      "Requirement already satisfied: async-timeout<5.0.0,>=4.0.0 in e:\\programming\\ai_as_ta\\venv\\lib\\site-packages (from langchain) (4.0.3)\n",
      "Requirement already satisfied: PyYAML>=5.3 in e:\\programming\\ai_as_ta\\venv\\lib\\site-packages (from langchain) (6.0.1)\n",
      "Requirement already satisfied: requests<3,>=2 in e:\\programming\\ai_as_ta\\venv\\lib\\site-packages (from langchain) (2.31.0)\n",
      "Requirement already satisfied: tenacity<9.0.0,>=8.1.0 in e:\\programming\\ai_as_ta\\venv\\lib\\site-packages (from langchain) (8.2.3)\n",
      "Requirement already satisfied: langsmith<0.1.0,>=0.0.52 in e:\\programming\\ai_as_ta\\venv\\lib\\site-packages (from langchain) (0.0.57)\n",
      "Requirement already satisfied: aiohttp<4.0.0,>=3.8.3 in e:\\programming\\ai_as_ta\\venv\\lib\\site-packages (from langchain) (3.8.6)\n",
      "Requirement already satisfied: attrs>=17.3.0 in e:\\programming\\ai_as_ta\\venv\\lib\\site-packages (from aiohttp<4.0.0,>=3.8.3->langchain) (23.1.0)\n",
      "Requirement already satisfied: charset-normalizer<4.0,>=2.0 in c:\\users\\tom\\appdata\\local\\packages\\pythonsoftwarefoundation.python.3.9_qbz5n2kfra8p0\\localcache\\local-packages\\python39\\site-packages (from aiohttp<4.0.0,>=3.8.3->langchain) (2.1.0)\n",
      "Requirement already satisfied: multidict<7.0,>=4.5 in e:\\programming\\ai_as_ta\\venv\\lib\\site-packages (from aiohttp<4.0.0,>=3.8.3->langchain) (6.0.4)\n",
      "Requirement already satisfied: aiosignal>=1.1.2 in e:\\programming\\ai_as_ta\\venv\\lib\\site-packages (from aiohttp<4.0.0,>=3.8.3->langchain) (1.3.1)\n",
      "Requirement already satisfied: yarl<2.0,>=1.0 in e:\\programming\\ai_as_ta\\venv\\lib\\site-packages (from aiohttp<4.0.0,>=3.8.3->langchain) (1.9.2)\n",
      "Requirement already satisfied: frozenlist>=1.1.1 in e:\\programming\\ai_as_ta\\venv\\lib\\site-packages (from aiohttp<4.0.0,>=3.8.3->langchain) (1.4.0)\n",
      "Requirement already satisfied: idna>=2.8 in c:\\users\\tom\\appdata\\local\\packages\\pythonsoftwarefoundation.python.3.9_qbz5n2kfra8p0\\localcache\\local-packages\\python39\\site-packages (from anyio<4.0->langchain) (3.3)\n",
      "Requirement already satisfied: sniffio>=1.1 in e:\\programming\\ai_as_ta\\venv\\lib\\site-packages (from anyio<4.0->langchain) (1.3.0)\n",
      "Requirement already satisfied: exceptiongroup in e:\\programming\\ai_as_ta\\venv\\lib\\site-packages (from anyio<4.0->langchain) (1.1.3)\n",
      "Requirement already satisfied: marshmallow<4.0.0,>=3.18.0 in e:\\programming\\ai_as_ta\\venv\\lib\\site-packages (from dataclasses-json<0.7,>=0.5.7->langchain) (3.20.1)\n",
      "Requirement already satisfied: typing-inspect<1,>=0.4.0 in e:\\programming\\ai_as_ta\\venv\\lib\\site-packages (from dataclasses-json<0.7,>=0.5.7->langchain) (0.9.0)\n",
      "Requirement already satisfied: jsonpointer>=1.9 in e:\\programming\\ai_as_ta\\venv\\lib\\site-packages (from jsonpatch<2.0,>=1.33->langchain) (2.4)\n",
      "Requirement already satisfied: typing-extensions>=4.6.1 in e:\\programming\\ai_as_ta\\venv\\lib\\site-packages (from pydantic<3,>=1->langchain) (4.8.0)\n",
      "Requirement already satisfied: pydantic-core==2.10.1 in e:\\programming\\ai_as_ta\\venv\\lib\\site-packages (from pydantic<3,>=1->langchain) (2.10.1)\n",
      "Requirement already satisfied: annotated-types>=0.4.0 in e:\\programming\\ai_as_ta\\venv\\lib\\site-packages (from pydantic<3,>=1->langchain) (0.6.0)\n",
      "Requirement already satisfied: certifi>=2017.4.17 in c:\\users\\tom\\appdata\\local\\packages\\pythonsoftwarefoundation.python.3.9_qbz5n2kfra8p0\\localcache\\local-packages\\python39\\site-packages (from requests<3,>=2->langchain) (2022.6.15)\n",
      "Requirement already satisfied: urllib3<3,>=1.21.1 in c:\\users\\tom\\appdata\\local\\packages\\pythonsoftwarefoundation.python.3.9_qbz5n2kfra8p0\\localcache\\local-packages\\python39\\site-packages (from requests<3,>=2->langchain) (1.26.9)\n",
      "Requirement already satisfied: greenlet!=0.4.17 in e:\\programming\\ai_as_ta\\venv\\lib\\site-packages (from SQLAlchemy<3,>=1.4->langchain) (3.0.1)\n",
      "Requirement already satisfied: packaging>=17.0 in e:\\programming\\ai_as_ta\\venv\\lib\\site-packages (from marshmallow<4.0.0,>=3.18.0->dataclasses-json<0.7,>=0.5.7->langchain) (23.2)\n",
      "Requirement already satisfied: mypy-extensions>=0.3.0 in e:\\programming\\ai_as_ta\\venv\\lib\\site-packages (from typing-inspect<1,>=0.4.0->dataclasses-json<0.7,>=0.5.7->langchain) (1.0.0)\n"
     ]
    },
    {
     "name": "stderr",
     "output_type": "stream",
     "text": [
      "\n",
      "[notice] A new release of pip available: 22.3.1 -> 23.3.1\n",
      "[notice] To update, run: python.exe -m pip install --upgrade pip\n"
     ]
    },
    {
     "name": "stdout",
     "output_type": "stream",
     "text": [
      "Collecting openai\n",
      "  Downloading openai-0.28.1-py3-none-any.whl (76 kB)\n",
      "     ---------------------------------------- 77.0/77.0 kB 2.2 MB/s eta 0:00:00\n",
      "Requirement already satisfied: requests>=2.20 in e:\\programming\\ai_as_ta\\venv\\lib\\site-packages (from openai) (2.31.0)\n",
      "Collecting tqdm\n",
      "  Downloading tqdm-4.66.1-py3-none-any.whl (78 kB)\n",
      "     ---------------------------------------- 78.3/78.3 kB 4.3 MB/s eta 0:00:00\n",
      "Requirement already satisfied: aiohttp in e:\\programming\\ai_as_ta\\venv\\lib\\site-packages (from openai) (3.8.6)\n",
      "Requirement already satisfied: idna<4,>=2.5 in c:\\users\\tom\\appdata\\local\\packages\\pythonsoftwarefoundation.python.3.9_qbz5n2kfra8p0\\localcache\\local-packages\\python39\\site-packages (from requests>=2.20->openai) (3.3)\n",
      "Requirement already satisfied: certifi>=2017.4.17 in c:\\users\\tom\\appdata\\local\\packages\\pythonsoftwarefoundation.python.3.9_qbz5n2kfra8p0\\localcache\\local-packages\\python39\\site-packages (from requests>=2.20->openai) (2022.6.15)\n",
      "Requirement already satisfied: urllib3<3,>=1.21.1 in c:\\users\\tom\\appdata\\local\\packages\\pythonsoftwarefoundation.python.3.9_qbz5n2kfra8p0\\localcache\\local-packages\\python39\\site-packages (from requests>=2.20->openai) (1.26.9)\n",
      "Requirement already satisfied: charset-normalizer<4,>=2 in c:\\users\\tom\\appdata\\local\\packages\\pythonsoftwarefoundation.python.3.9_qbz5n2kfra8p0\\localcache\\local-packages\\python39\\site-packages (from requests>=2.20->openai) (2.1.0)\n",
      "Requirement already satisfied: frozenlist>=1.1.1 in e:\\programming\\ai_as_ta\\venv\\lib\\site-packages (from aiohttp->openai) (1.4.0)\n",
      "Requirement already satisfied: yarl<2.0,>=1.0 in e:\\programming\\ai_as_ta\\venv\\lib\\site-packages (from aiohttp->openai) (1.9.2)\n",
      "Requirement already satisfied: async-timeout<5.0,>=4.0.0a3 in e:\\programming\\ai_as_ta\\venv\\lib\\site-packages (from aiohttp->openai) (4.0.3)\n",
      "Requirement already satisfied: aiosignal>=1.1.2 in e:\\programming\\ai_as_ta\\venv\\lib\\site-packages (from aiohttp->openai) (1.3.1)\n",
      "Requirement already satisfied: multidict<7.0,>=4.5 in e:\\programming\\ai_as_ta\\venv\\lib\\site-packages (from aiohttp->openai) (6.0.4)\n",
      "Requirement already satisfied: attrs>=17.3.0 in e:\\programming\\ai_as_ta\\venv\\lib\\site-packages (from aiohttp->openai) (23.1.0)\n",
      "Requirement already satisfied: colorama in e:\\programming\\ai_as_ta\\venv\\lib\\site-packages (from tqdm->openai) (0.4.6)\n",
      "Installing collected packages: tqdm, openai\n",
      "Successfully installed openai-0.28.1 tqdm-4.66.1\n"
     ]
    },
    {
     "name": "stderr",
     "output_type": "stream",
     "text": [
      "\n",
      "[notice] A new release of pip available: 22.3.1 -> 23.3.1\n",
      "[notice] To update, run: python.exe -m pip install --upgrade pip\n",
      "'export' 不是内部或外部命令，也不是可运行的程序\n",
      "或批处理文件。\n"
     ]
    }
   ],
   "source": [
    "%pip install langchain\n",
    "%pip install openai\n",
    "\n",
    "# use this to set API Key\n",
    "#!echo \"Fill in here openAI API\" > api_key_private.txt\n",
    "\n"
   ],
   "metadata": {
    "collapsed": false,
    "ExecuteTime": {
     "end_time": "2023-11-04T23:15:35.347557100Z",
     "start_time": "2023-11-04T23:15:30.385106900Z"
    }
   },
   "id": "initial_id"
  },
  {
   "cell_type": "code",
   "execution_count": 11,
   "outputs": [],
   "source": [
    "\"\"\"Reading API from private file\"\"\"\n",
    "\n",
    "from langchain.llms import OpenAI\n",
    "from langchain.chat_models import ChatOpenAI\n",
    "\n",
    "try:\n",
    "    with open('api_key_private.txt', 'r') as file:\n",
    "        # Read the entire content of the file into a string\n",
    "        api_key = file.read()\n",
    "\n",
    "        # Print the string read from the file\n",
    "        # print(\"String read from the file:\")\n",
    "        # print(api_key)\n",
    "except FileNotFoundError:\n",
    "    print(\"The file 'api_key.txt' was not found.\")\n",
    "except Exception as e:\n",
    "    print(\"An error occurred:\", str(e))"
   ],
   "metadata": {
    "collapsed": false,
    "ExecuteTime": {
     "end_time": "2023-11-04T23:35:31.173133900Z",
     "start_time": "2023-11-04T23:35:31.159958200Z"
    }
   },
   "id": "ff230a34fc220337"
  },
  {
   "cell_type": "markdown",
   "source": [
    "## Simple QA"
   ],
   "metadata": {
    "collapsed": false
   },
   "id": "b583ac95a15ad424"
  },
  {
   "cell_type": "code",
   "execution_count": 19,
   "outputs": [
    {
     "data": {
      "text/plain": "'\\n\\nIt is currently sunny and pleasant outside. The temperature is around 65 degrees Fahrenheit. There is a light breeze in the air.'"
     },
     "execution_count": 19,
     "metadata": {},
     "output_type": "execute_result"
    }
   ],
   "source": [
    "llm = OpenAI(openai_api_key=api_key)\n",
    "chat_model = ChatOpenAI(openai_api_key=api_key)\n",
    "\n",
    "llm.predict(\"hi! Tell me about the weather\")"
   ],
   "metadata": {
    "collapsed": false,
    "ExecuteTime": {
     "end_time": "2023-11-04T23:38:03.234426600Z",
     "start_time": "2023-11-04T23:38:02.484606800Z"
    }
   },
   "id": "44fec15f55159a34"
  },
  {
   "cell_type": "code",
   "execution_count": 22,
   "outputs": [
    {
     "data": {
      "text/plain": "'Hello! How can I assist you today?'"
     },
     "execution_count": 22,
     "metadata": {},
     "output_type": "execute_result"
    }
   ],
   "source": [
    "chat_model.predict(\"hi!\")"
   ],
   "metadata": {
    "collapsed": false,
    "ExecuteTime": {
     "end_time": "2023-11-04T23:40:19.967154200Z",
     "start_time": "2023-11-04T23:40:18.429143600Z"
    }
   },
   "id": "ee868986c8333c68"
  },
  {
   "cell_type": "code",
   "execution_count": 21,
   "outputs": [
    {
     "data": {
      "text/plain": "AIMessage(content='Colorful Threads')"
     },
     "execution_count": 21,
     "metadata": {},
     "output_type": "execute_result"
    }
   ],
   "source": [
    "from langchain.schema import HumanMessage\n",
    "\n",
    "text = \"What would be a good company name for a company that makes colorful socks?\"\n",
    "messages = [HumanMessage(content=text)]\n",
    "\n",
    "llm.predict_messages(messages)\n",
    "\n",
    "chat_model.predict_messages(messages)"
   ],
   "metadata": {
    "collapsed": false,
    "ExecuteTime": {
     "end_time": "2023-11-04T23:39:09.713891500Z",
     "start_time": "2023-11-04T23:39:08.509564Z"
    }
   },
   "id": "46116b5c6ac8f367"
  },
  {
   "cell_type": "markdown",
   "source": [
    "## User-define Variable\n",
    "*template*"
   ],
   "metadata": {
    "collapsed": false
   },
   "id": "bfaf2b7eefc3a565"
  },
  {
   "cell_type": "code",
   "execution_count": 23,
   "outputs": [
    {
     "data": {
      "text/plain": "'What is a good name for a company that makes colorful socks?'"
     },
     "execution_count": 23,
     "metadata": {},
     "output_type": "execute_result"
    }
   ],
   "source": [
    "from langchain.prompts import PromptTemplate\n",
    "\n",
    "prompt = PromptTemplate.from_template(\"What is a good name for a company that makes {product}?\")\n",
    "prompt.format(product=\"colorful socks\")"
   ],
   "metadata": {
    "collapsed": false,
    "ExecuteTime": {
     "end_time": "2023-11-04T23:41:39.651008300Z",
     "start_time": "2023-11-04T23:41:39.635027Z"
    }
   },
   "id": "52ec528294657d44"
  },
  {
   "cell_type": "code",
   "execution_count": 24,
   "outputs": [
    {
     "data": {
      "text/plain": "[SystemMessage(content='You are a helpful assistant that translates English to French.'),\n HumanMessage(content='I love programming.')]"
     },
     "execution_count": 24,
     "metadata": {},
     "output_type": "execute_result"
    }
   ],
   "source": [
    "from langchain.prompts.chat import ChatPromptTemplate\n",
    "\n",
    "template = \"You are a helpful assistant that translates {input_language} to {output_language}.\"\n",
    "human_template = \"{text}\"\n",
    "\n",
    "chat_prompt = ChatPromptTemplate.from_messages([\n",
    "    (\"system\", template),\n",
    "    (\"human\", human_template),\n",
    "])\n",
    "\n",
    "chat_prompt.format_messages(input_language=\"English\", output_language=\"French\", text=\"I love programming.\")"
   ],
   "metadata": {
    "collapsed": false,
    "ExecuteTime": {
     "end_time": "2023-11-04T23:42:10.648121600Z",
     "start_time": "2023-11-04T23:42:10.595710700Z"
    }
   },
   "id": "f94b9ad8a2fbe72b"
  },
  {
   "cell_type": "markdown",
   "source": [
    "## Parser\n",
    "We can create our own parser"
   ],
   "metadata": {
    "collapsed": false
   },
   "id": "6258901fd3dc9aa0"
  },
  {
   "cell_type": "code",
   "execution_count": 26,
   "outputs": [
    {
     "data": {
      "text/plain": "['hi', 'bye']"
     },
     "execution_count": 26,
     "metadata": {},
     "output_type": "execute_result"
    }
   ],
   "source": [
    "from langchain.schema import BaseOutputParser\n",
    "\n",
    "class CommaSeparatedListOutputParser(BaseOutputParser):\n",
    "    \"\"\"Parse the output of an LLM call to a comma-separated list.\"\"\"\n",
    "\n",
    "\n",
    "    def parse(self, text: str):\n",
    "        \"\"\"Parse the output of an LLM call.\"\"\"\n",
    "        return text.strip().split(\", \")\n",
    "\n",
    "CommaSeparatedListOutputParser().parse(\"hi, bye\")"
   ],
   "metadata": {
    "collapsed": false,
    "ExecuteTime": {
     "end_time": "2023-11-04T23:43:59.382926800Z",
     "start_time": "2023-11-04T23:43:59.363890400Z"
    }
   },
   "id": "b7f2144364d2ffda"
  },
  {
   "cell_type": "markdown",
   "source": [
    "## Basic Workflow Using Chains \n",
    "chain input -> *PromptTemplate + LLM + OutputParser* -> list"
   ],
   "metadata": {
    "collapsed": false
   },
   "id": "5069834b4ce31bce"
  },
  {
   "cell_type": "code",
   "execution_count": 31,
   "outputs": [
    {
     "data": {
      "text/plain": "['red', 'blue', 'green', 'yellow', 'purple']"
     },
     "execution_count": 31,
     "metadata": {},
     "output_type": "execute_result"
    }
   ],
   "source": [
    "from langchain.chat_models import ChatOpenAI\n",
    "from langchain.prompts.chat import ChatPromptTemplate\n",
    "\n",
    "template = \"\"\"You are a helpful assistant who generates comma separated lists.\n",
    "A user will pass in a category, and you should generate 5 objects in that category in a comma separated list.\n",
    "ONLY return a comma separated list, and nothing more.\"\"\"\n",
    "human_template = \"{text}\"\n",
    "\n",
    "chat_prompt = ChatPromptTemplate.from_messages([\n",
    "    (\"system\", template),\n",
    "    (\"human\", human_template),\n",
    "])\n",
    "chain = chat_prompt | chat_model | CommaSeparatedListOutputParser() #chaining\n",
    "chain.invoke({\"text\": \"colors\"})"
   ],
   "metadata": {
    "collapsed": false,
    "ExecuteTime": {
     "end_time": "2023-11-04T23:48:42.736513100Z",
     "start_time": "2023-11-04T23:48:40.900052800Z"
    }
   },
   "id": "c4aba585b1726e46"
  },
  {
   "cell_type": "markdown",
   "source": [
    "What the No-code LLM do is to modularize these **parser/LLMs/thirdparty_plugin** into components and build graphs out of it.\n",
    "LangFlow is just defining their graph over Python. That parse json file into a graph and generate langchain code.\n",
    "flowise focus on the UI and integration beside the graph.\n",
    "\n",
    "\n",
    "\n",
    "**Mediapipe** (Google's CV package) also adopt this, allow we to create user-defined Graph.\n",
    "\n",
    "\n",
    "Below is an example of a graph (mediapipe):\n",
    "\n",
    "    # This graph named main_pass_throughcals_nosubgraph.pbtxt contains 4\n",
    "    # passthrough calculators.\n",
    "    input_stream: \"in\"\n",
    "    output_stream: \"out\"\n",
    "    node {\n",
    "        calculator: \"PassThroughCalculator\"\n",
    "        input_stream: \"in\"\n",
    "        output_stream: \"out1\"\n",
    "    }\n",
    "    node {\n",
    "        calculator: \"PassThroughCalculator\"\n",
    "        input_stream: \"out1\"\n",
    "        output_stream: \"out2\"\n",
    "    }\n",
    "    node {\n",
    "        calculator: \"PassThroughCalculator\"\n",
    "        input_stream: \"out2\"\n",
    "        output_stream: \"out3\"\n",
    "    }\n",
    "    node {\n",
    "        calculator: \"PassThroughCalculator\"\n",
    "        input_stream: \"out3\"\n",
    "        output_stream: \"out\"\n",
    "    }\n"
   ],
   "metadata": {
    "collapsed": false
   },
   "id": "763a82e7fd785713"
  },
  {
   "cell_type": "code",
   "execution_count": null,
   "outputs": [],
   "source": [],
   "metadata": {
    "collapsed": false
   },
   "id": "f55534f263c37149"
  }
 ],
 "metadata": {
  "kernelspec": {
   "display_name": "Python 3",
   "language": "python",
   "name": "python3"
  },
  "language_info": {
   "codemirror_mode": {
    "name": "ipython",
    "version": 2
   },
   "file_extension": ".py",
   "mimetype": "text/x-python",
   "name": "python",
   "nbconvert_exporter": "python",
   "pygments_lexer": "ipython2",
   "version": "2.7.6"
  }
 },
 "nbformat": 4,
 "nbformat_minor": 5
}
