{
 "cells": [
  {
   "cell_type": "markdown",
   "source": [
    "# Langchain Demo\n",
    "Test how `langchain` can be used to build no-code LLMOps. Proof of Concept.\n"
   ],
   "metadata": {
    "collapsed": false
   },
   "id": "38b3a36b648dcff5"
  },
  {
   "cell_type": "code",
   "execution_count": null,
   "outputs": [],
   "source": [
    "!pip install langchain\n",
    "!pip install openai\n",
    "\n",
    "# please set API variable here\n",
    "!export OPENAI_API_KEY=\"...\"\n"
   ],
   "metadata": {
    "collapsed": false
   },
   "id": "initial_id"
  },
  {
   "cell_type": "markdown",
   "source": [],
   "metadata": {
    "collapsed": false
   },
   "id": "3ab633feb053a430"
  }
 ],
 "metadata": {
  "kernelspec": {
   "display_name": "Python 3",
   "language": "python",
   "name": "python3"
  },
  "language_info": {
   "codemirror_mode": {
    "name": "ipython",
    "version": 2
   },
   "file_extension": ".py",
   "mimetype": "text/x-python",
   "name": "python",
   "nbconvert_exporter": "python",
   "pygments_lexer": "ipython2",
   "version": "2.7.6"
  }
 },
 "nbformat": 4,
 "nbformat_minor": 5
}
