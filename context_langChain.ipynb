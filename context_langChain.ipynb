{
 "cells": [
  {
   "cell_type": "markdown",
   "source": [
    "# A langchain demo where instructor can input context that will be used to answe the student's prompt"
   ],
   "metadata": {
    "collapsed": false
   },
   "id": "2cc5f64334ab2992"
  },
  {
   "cell_type": "code",
   "execution_count": 2,
   "outputs": [
    {
     "name": "stdout",
     "output_type": "stream",
     "text": [
      "Requirement already satisfied: langchain in e:\\programming\\ai_as_ta\\venv\\lib\\site-packages (0.0.330)\n",
      "Requirement already satisfied: requests<3,>=2 in e:\\programming\\ai_as_ta\\venv\\lib\\site-packages (from langchain) (2.31.0)\n",
      "Requirement already satisfied: numpy<2,>=1 in e:\\programming\\ai_as_ta\\venv\\lib\\site-packages (from langchain) (1.26.1)\n",
      "Requirement already satisfied: langsmith<0.1.0,>=0.0.52 in e:\\programming\\ai_as_ta\\venv\\lib\\site-packages (from langchain) (0.0.57)\n",
      "Requirement already satisfied: SQLAlchemy<3,>=1.4 in e:\\programming\\ai_as_ta\\venv\\lib\\site-packages (from langchain) (2.0.23)\n",
      "Requirement already satisfied: async-timeout<5.0.0,>=4.0.0 in e:\\programming\\ai_as_ta\\venv\\lib\\site-packages (from langchain) (4.0.3)\n",
      "Requirement already satisfied: tenacity<9.0.0,>=8.1.0 in e:\\programming\\ai_as_ta\\venv\\lib\\site-packages (from langchain) (8.2.3)\n",
      "Requirement already satisfied: jsonpatch<2.0,>=1.33 in e:\\programming\\ai_as_ta\\venv\\lib\\site-packages (from langchain) (1.33)\n",
      "Requirement already satisfied: aiohttp<4.0.0,>=3.8.3 in e:\\programming\\ai_as_ta\\venv\\lib\\site-packages (from langchain) (3.8.6)\n",
      "Requirement already satisfied: anyio<4.0 in e:\\programming\\ai_as_ta\\venv\\lib\\site-packages (from langchain) (3.7.1)\n",
      "Requirement already satisfied: PyYAML>=5.3 in e:\\programming\\ai_as_ta\\venv\\lib\\site-packages (from langchain) (6.0.1)\n",
      "Requirement already satisfied: pydantic<3,>=1 in e:\\programming\\ai_as_ta\\venv\\lib\\site-packages (from langchain) (2.4.2)\n",
      "Requirement already satisfied: dataclasses-json<0.7,>=0.5.7 in e:\\programming\\ai_as_ta\\venv\\lib\\site-packages (from langchain) (0.6.1)\n",
      "Requirement already satisfied: multidict<7.0,>=4.5 in e:\\programming\\ai_as_ta\\venv\\lib\\site-packages (from aiohttp<4.0.0,>=3.8.3->langchain) (6.0.4)\n",
      "Requirement already satisfied: frozenlist>=1.1.1 in e:\\programming\\ai_as_ta\\venv\\lib\\site-packages (from aiohttp<4.0.0,>=3.8.3->langchain) (1.4.0)\n",
      "Requirement already satisfied: aiosignal>=1.1.2 in e:\\programming\\ai_as_ta\\venv\\lib\\site-packages (from aiohttp<4.0.0,>=3.8.3->langchain) (1.3.1)\n",
      "Requirement already satisfied: attrs>=17.3.0 in e:\\programming\\ai_as_ta\\venv\\lib\\site-packages (from aiohttp<4.0.0,>=3.8.3->langchain) (23.1.0)\n",
      "Requirement already satisfied: yarl<2.0,>=1.0 in e:\\programming\\ai_as_ta\\venv\\lib\\site-packages (from aiohttp<4.0.0,>=3.8.3->langchain) (1.9.2)\n",
      "Requirement already satisfied: charset-normalizer<4.0,>=2.0 in c:\\users\\tom\\appdata\\local\\packages\\pythonsoftwarefoundation.python.3.9_qbz5n2kfra8p0\\localcache\\local-packages\\python39\\site-packages (from aiohttp<4.0.0,>=3.8.3->langchain) (2.1.0)\n",
      "Requirement already satisfied: sniffio>=1.1 in e:\\programming\\ai_as_ta\\venv\\lib\\site-packages (from anyio<4.0->langchain) (1.3.0)\n",
      "Requirement already satisfied: exceptiongroup in e:\\programming\\ai_as_ta\\venv\\lib\\site-packages (from anyio<4.0->langchain) (1.1.3)\n",
      "Requirement already satisfied: idna>=2.8 in c:\\users\\tom\\appdata\\local\\packages\\pythonsoftwarefoundation.python.3.9_qbz5n2kfra8p0\\localcache\\local-packages\\python39\\site-packages (from anyio<4.0->langchain) (3.3)\n",
      "Requirement already satisfied: marshmallow<4.0.0,>=3.18.0 in e:\\programming\\ai_as_ta\\venv\\lib\\site-packages (from dataclasses-json<0.7,>=0.5.7->langchain) (3.20.1)\n",
      "Requirement already satisfied: typing-inspect<1,>=0.4.0 in e:\\programming\\ai_as_ta\\venv\\lib\\site-packages (from dataclasses-json<0.7,>=0.5.7->langchain) (0.9.0)\n",
      "Requirement already satisfied: jsonpointer>=1.9 in e:\\programming\\ai_as_ta\\venv\\lib\\site-packages (from jsonpatch<2.0,>=1.33->langchain) (2.4)\n",
      "Requirement already satisfied: typing-extensions>=4.6.1 in e:\\programming\\ai_as_ta\\venv\\lib\\site-packages (from pydantic<3,>=1->langchain) (4.8.0)\n",
      "Requirement already satisfied: pydantic-core==2.10.1 in e:\\programming\\ai_as_ta\\venv\\lib\\site-packages (from pydantic<3,>=1->langchain) (2.10.1)\n",
      "Requirement already satisfied: annotated-types>=0.4.0 in e:\\programming\\ai_as_ta\\venv\\lib\\site-packages (from pydantic<3,>=1->langchain) (0.6.0)\n",
      "Requirement already satisfied: urllib3<3,>=1.21.1 in c:\\users\\tom\\appdata\\local\\packages\\pythonsoftwarefoundation.python.3.9_qbz5n2kfra8p0\\localcache\\local-packages\\python39\\site-packages (from requests<3,>=2->langchain) (1.26.9)\n",
      "Requirement already satisfied: certifi>=2017.4.17 in c:\\users\\tom\\appdata\\local\\packages\\pythonsoftwarefoundation.python.3.9_qbz5n2kfra8p0\\localcache\\local-packages\\python39\\site-packages (from requests<3,>=2->langchain) (2022.6.15)\n",
      "Requirement already satisfied: greenlet!=0.4.17 in e:\\programming\\ai_as_ta\\venv\\lib\\site-packages (from SQLAlchemy<3,>=1.4->langchain) (3.0.1)\n",
      "Requirement already satisfied: packaging>=17.0 in e:\\programming\\ai_as_ta\\venv\\lib\\site-packages (from marshmallow<4.0.0,>=3.18.0->dataclasses-json<0.7,>=0.5.7->langchain) (23.2)\n",
      "Requirement already satisfied: mypy-extensions>=0.3.0 in e:\\programming\\ai_as_ta\\venv\\lib\\site-packages (from typing-inspect<1,>=0.4.0->dataclasses-json<0.7,>=0.5.7->langchain) (1.0.0)\n",
      "Note: you may need to restart the kernel to use updated packages.\n"
     ]
    },
    {
     "name": "stderr",
     "output_type": "stream",
     "text": [
      "\n",
      "[notice] A new release of pip available: 22.3.1 -> 23.3.1\n",
      "[notice] To update, run: python.exe -m pip install --upgrade pip\n"
     ]
    },
    {
     "name": "stdout",
     "output_type": "stream",
     "text": [
      "Requirement already satisfied: openai in e:\\programming\\ai_as_ta\\venv\\lib\\site-packages (0.28.1)\n",
      "Requirement already satisfied: aiohttp in e:\\programming\\ai_as_ta\\venv\\lib\\site-packages (from openai) (3.8.6)\n",
      "Requirement already satisfied: requests>=2.20 in e:\\programming\\ai_as_ta\\venv\\lib\\site-packages (from openai) (2.31.0)\n",
      "Requirement already satisfied: tqdm in e:\\programming\\ai_as_ta\\venv\\lib\\site-packages (from openai) (4.66.1)\n",
      "Requirement already satisfied: certifi>=2017.4.17 in c:\\users\\tom\\appdata\\local\\packages\\pythonsoftwarefoundation.python.3.9_qbz5n2kfra8p0\\localcache\\local-packages\\python39\\site-packages (from requests>=2.20->openai) (2022.6.15)\n",
      "Requirement already satisfied: urllib3<3,>=1.21.1 in c:\\users\\tom\\appdata\\local\\packages\\pythonsoftwarefoundation.python.3.9_qbz5n2kfra8p0\\localcache\\local-packages\\python39\\site-packages (from requests>=2.20->openai) (1.26.9)\n",
      "Requirement already satisfied: charset-normalizer<4,>=2 in c:\\users\\tom\\appdata\\local\\packages\\pythonsoftwarefoundation.python.3.9_qbz5n2kfra8p0\\localcache\\local-packages\\python39\\site-packages (from requests>=2.20->openai) (2.1.0)\n",
      "Requirement already satisfied: idna<4,>=2.5 in c:\\users\\tom\\appdata\\local\\packages\\pythonsoftwarefoundation.python.3.9_qbz5n2kfra8p0\\localcache\\local-packages\\python39\\site-packages (from requests>=2.20->openai) (3.3)\n",
      "Requirement already satisfied: attrs>=17.3.0 in e:\\programming\\ai_as_ta\\venv\\lib\\site-packages (from aiohttp->openai) (23.1.0)\n",
      "Requirement already satisfied: frozenlist>=1.1.1 in e:\\programming\\ai_as_ta\\venv\\lib\\site-packages (from aiohttp->openai) (1.4.0)\n",
      "Requirement already satisfied: async-timeout<5.0,>=4.0.0a3 in e:\\programming\\ai_as_ta\\venv\\lib\\site-packages (from aiohttp->openai) (4.0.3)\n",
      "Requirement already satisfied: multidict<7.0,>=4.5 in e:\\programming\\ai_as_ta\\venv\\lib\\site-packages (from aiohttp->openai) (6.0.4)\n",
      "Requirement already satisfied: aiosignal>=1.1.2 in e:\\programming\\ai_as_ta\\venv\\lib\\site-packages (from aiohttp->openai) (1.3.1)\n",
      "Requirement already satisfied: yarl<2.0,>=1.0 in e:\\programming\\ai_as_ta\\venv\\lib\\site-packages (from aiohttp->openai) (1.9.2)\n",
      "Requirement already satisfied: colorama in e:\\programming\\ai_as_ta\\venv\\lib\\site-packages (from tqdm->openai) (0.4.6)\n",
      "Note: you may need to restart the kernel to use updated packages.\n"
     ]
    },
    {
     "name": "stderr",
     "output_type": "stream",
     "text": [
      "\n",
      "[notice] A new release of pip available: 22.3.1 -> 23.3.1\n",
      "[notice] To update, run: python.exe -m pip install --upgrade pip\n"
     ]
    }
   ],
   "source": [
    "\"\"\"Setting up Environment\"\"\"\n",
    "%pip install langchain\n",
    "%pip install openai\n",
    "%pip install tiktoken\n",
    "%pip install faiss-cpu\n",
    "# %conda install faiss-gpu\n",
    "# NOTE:faiss-gpu is not supported with pip, use conda instead, or here I used faiss-cpu.\n",
    "\n",
    "# use this to set API Key\n",
    "#!echo \"Fill in here openAI API\" > api_key_private.txt\n"
   ],
   "metadata": {
    "collapsed": false,
    "ExecuteTime": {
     "start_time": "2023-11-05T01:31:36.810039Z"
    }
   },
   "id": "c4f500d063a43444"
  },
  {
   "cell_type": "code",
   "execution_count": 11,
   "outputs": [],
   "source": [
    "\"\"\"Reading API from private file\"\"\"\n",
    "\n",
    "from langchain.llms import OpenAI\n",
    "from langchain.chat_models import ChatOpenAI\n",
    "\n",
    "try:\n",
    "    with open('api_key_private.txt', 'r') as file:\n",
    "        # Read the entire content of the file into a string\n",
    "        api_key = file.read()\n",
    "\n",
    "        # Print the string read from the file\n",
    "        # print(\"String read from the file:\")\n",
    "        # print(api_key)\n",
    "except FileNotFoundError:\n",
    "    print(\"The file 'api_key.txt' was not found.\")\n",
    "except Exception as e:\n",
    "    print(\"An error occurred:\", str(e))"
   ],
   "metadata": {
    "collapsed": false,
    "ExecuteTime": {
     "end_time": "2023-11-05T01:37:28.837304Z",
     "start_time": "2023-11-05T01:37:28.821053700Z"
    }
   },
   "id": "a763c4795c9752be"
  },
  {
   "cell_type": "markdown",
   "source": [
    "## Main code"
   ],
   "metadata": {
    "collapsed": false
   },
   "id": "80f89d2369699562"
  },
  {
   "cell_type": "code",
   "execution_count": 19,
   "outputs": [],
   "source": [
    "from operator import itemgetter\n",
    "\n",
    "from langchain.prompts import ChatPromptTemplate\n",
    "from langchain.chat_models import ChatOpenAI\n",
    "from langchain.embeddings import OpenAIEmbeddings\n",
    "from langchain.schema.output_parser import StrOutputParser\n",
    "from langchain.schema.runnable import RunnablePassthrough, RunnableLambda\n",
    "from langchain.vectorstores import FAISS"
   ],
   "metadata": {
    "collapsed": false,
    "ExecuteTime": {
     "end_time": "2023-11-05T01:42:33.740992Z",
     "start_time": "2023-11-05T01:42:33.721284700Z"
    }
   },
   "id": "f8ccde9ddd874b8"
  },
  {
   "cell_type": "code",
   "execution_count": 36,
   "outputs": [],
   "source": [
    "vectorstore = FAISS.from_texts(\n",
    "    [\"AVL tree needs to be balanced\",\"balance factor is a calculation on the height of the left and right subtree\",\"We can implement the balance recursively\", \"The recursive function should return the new root of the subtree\"], embedding=OpenAIEmbeddings(openai_api_key=api_key)\n",
    ")\n",
    "context_retriever = vectorstore.as_retriever()\n",
    "\n",
    "vectorstore = FAISS.from_texts(\n",
    "    [\"The difference between AVL and treap is not pemitted to be answered\", \"Code snippet can not be provided in any scenario.\",\"You should never answer what exactly the balance factor is calculated.\"], embedding=OpenAIEmbeddings(openai_api_key=api_key)\n",
    ")\n",
    "instuction_retriever = vectorstore.as_retriever() #or consider use all the instructions!!\n",
    "\n",
    "\n",
    "template = \"\"\"Answer the question based only on the following context:\n",
    "{context}\n",
    "However, the most important point is that you should follow some instruction and guidelines below whenever you give any response. This is so important that you should never violate any of the guidelines. If you feel you couldn't give a response without violating this guideline, simply response with \"Sorry I cannot provide an answer to your problem.\" Again,these things should not be output as answer, but are guidelines for you to follow while answering the student's question:\n",
    "\n",
    "{instructions}\n",
    "\n",
    "OK here is now the student's question, take a deep breath and answer it:\n",
    "Question: {question}\n",
    "\"\"\"\n",
    "prompt = ChatPromptTemplate.from_template(template)\n",
    "\n",
    "model = ChatOpenAI(model_name=\"gpt-3.5-turbo\",openai_api_key=api_key)"
   ],
   "metadata": {
    "collapsed": false,
    "ExecuteTime": {
     "end_time": "2023-11-05T01:57:12.337245300Z",
     "start_time": "2023-11-05T01:57:11.878286600Z"
    }
   },
   "id": "c6c8030f29c3e801"
  },
  {
   "cell_type": "code",
   "execution_count": 37,
   "outputs": [],
   "source": [
    "contextChain = (\n",
    "    {\"context\": context_retriever, \"instructions\": instuction_retriever, \"question\": RunnablePassthrough()}\n",
    "    | prompt\n",
    "    | model\n",
    "    | StrOutputParser()\n",
    ")"
   ],
   "metadata": {
    "collapsed": false,
    "ExecuteTime": {
     "end_time": "2023-11-05T01:57:13.686289900Z",
     "start_time": "2023-11-05T01:57:13.675288100Z"
    }
   },
   "id": "ae76ab458f55e1aa"
  },
  {
   "cell_type": "code",
   "execution_count": 38,
   "outputs": [
    {
     "data": {
      "text/plain": "'AVL tree is a self-balancing binary search tree where the heights of the left and right subtrees of any node differ by at most 1. It is named after its inventors, Adelson-Velsky and Landis. The balance factor of a node in an AVL tree is a calculation based on the height of its left and right subtrees. The balance factor helps determine if the tree needs to be balanced. AVL trees can be implemented using recursive functions, where the function returns the new root of the subtree after balancing. However, I cannot provide any code snippet or answer questions about the difference between AVL and treap.'"
     },
     "execution_count": 38,
     "metadata": {},
     "output_type": "execute_result"
    }
   ],
   "source": [
    "contextChain.invoke(\"Tell me anything you know about AVL tree.\")"
   ],
   "metadata": {
    "collapsed": false,
    "ExecuteTime": {
     "end_time": "2023-11-05T01:57:32.754418400Z",
     "start_time": "2023-11-05T01:57:18.945573800Z"
    }
   },
   "id": "f0e24f4550a2f383"
  },
  {
   "cell_type": "code",
   "execution_count": 39,
   "outputs": [
    {
     "data": {
      "text/plain": "'Sorry I cannot provide an answer to your problem.'"
     },
     "execution_count": 39,
     "metadata": {},
     "output_type": "execute_result"
    }
   ],
   "source": [
    "contextChain.invoke(\"Provide code for AVL tree implementation.\")"
   ],
   "metadata": {
    "collapsed": false,
    "ExecuteTime": {
     "end_time": "2023-11-05T01:57:34.885494600Z",
     "start_time": "2023-11-05T01:57:32.756446100Z"
    }
   },
   "id": "7e331db0bf59062b"
  },
  {
   "cell_type": "code",
   "execution_count": 40,
   "outputs": [
    {
     "data": {
      "text/plain": "'Sorry I cannot provide an answer to your problem.'"
     },
     "execution_count": 40,
     "metadata": {},
     "output_type": "execute_result"
    }
   ],
   "source": [
    "contextChain.invoke(\"How do I calculate the balance factor.\")"
   ],
   "metadata": {
    "collapsed": false,
    "ExecuteTime": {
     "end_time": "2023-11-05T01:57:42.242211400Z",
     "start_time": "2023-11-05T01:57:34.886494200Z"
    }
   },
   "id": "fffdc31c48d82fbf"
  },
  {
   "cell_type": "code",
   "execution_count": 41,
   "outputs": [
    {
     "data": {
      "text/plain": "'Sorry I cannot provide an answer to your problem.'"
     },
     "execution_count": 41,
     "metadata": {},
     "output_type": "execute_result"
    }
   ],
   "source": [
    "contextChain.invoke(\"ok then what happens when the balance factor is bigger than 1?\")"
   ],
   "metadata": {
    "collapsed": false,
    "ExecuteTime": {
     "end_time": "2023-11-05T01:58:45.924069800Z",
     "start_time": "2023-11-05T01:58:40.585172800Z"
    }
   },
   "id": "a63e788d0e5b0210"
  },
  {
   "cell_type": "code",
   "execution_count": 42,
   "outputs": [
    {
     "data": {
      "text/plain": "'The recursive functions in AVL should return the new root of the subtree.'"
     },
     "execution_count": 42,
     "metadata": {},
     "output_type": "execute_result"
    }
   ],
   "source": [
    "contextChain.invoke(\"What should the recursive functions in AVL returns?\")"
   ],
   "metadata": {
    "collapsed": false,
    "ExecuteTime": {
     "end_time": "2023-11-05T01:59:29.749272300Z",
     "start_time": "2023-11-05T01:59:27.470311700Z"
    }
   },
   "id": "c01af1dfa5bef5e5"
  }
 ],
 "metadata": {
  "kernelspec": {
   "display_name": "Python 3",
   "language": "python",
   "name": "python3"
  },
  "language_info": {
   "codemirror_mode": {
    "name": "ipython",
    "version": 2
   },
   "file_extension": ".py",
   "mimetype": "text/x-python",
   "name": "python",
   "nbconvert_exporter": "python",
   "pygments_lexer": "ipython2",
   "version": "2.7.6"
  }
 },
 "nbformat": 4,
 "nbformat_minor": 5
}
